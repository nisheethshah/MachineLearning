{
 "cells": [
  {
   "cell_type": "markdown",
   "metadata": {},
   "source": [
    "# FIT5201 Data analysis algorithms S1 2019 \n",
    "# Assignment 1\n",
    "#### Student Name: Nisheeth Shah\n",
    "#### Student ID: 29599644\n",
    "#### Email Id: nsha0020@student.monash.edu\n",
    "\n",
    "Date: 04/04/2019\n",
    "\n",
    "Environment: R version 3.4.3. <br>\n",
    "Libraries used:\n",
    "- reshape2\n",
    "- ggplot2\n",
    "- MASS"
   ]
  },
  {
   "cell_type": "markdown",
   "metadata": {},
   "source": [
    "# Section F. Multiclass Perceptron\n",
    "### Question 8: Multiclass Perceptron\n",
    "\n",
    "    I. Load data files\n",
    "    II. Train the multiclass perceptron on the provided training data. Evaluate and plot the error.\n",
    "    III. Use one-versus-one approach to solve the multi-class classification problem"
   ]
  },
  {
   "cell_type": "markdown",
   "metadata": {},
   "source": [
    "### Importing libraries"
   ]
  },
  {
   "cell_type": "code",
   "execution_count": 25,
   "metadata": {},
   "outputs": [],
   "source": [
    "## Load required libraries:\n",
    "library(MASS) # generates multivariate Gaussian sampels\n",
    "library(ggplot2)\n",
    "library(reshape2)\n",
    "\n",
    "## Initialization\n",
    "set.seed(1234)"
   ]
  },
  {
   "cell_type": "markdown",
   "metadata": {},
   "source": [
    "### Read train and test datasets"
   ]
  },
  {
   "cell_type": "code",
   "execution_count": 26,
   "metadata": {},
   "outputs": [
    {
     "data": {
      "text/html": [
       "<ol class=list-inline>\n",
       "\t<li>C1</li>\n",
       "\t<li>C1</li>\n",
       "\t<li>C1</li>\n",
       "\t<li>C1</li>\n",
       "\t<li>C1</li>\n",
       "\t<li>C1</li>\n",
       "</ol>\n",
       "\n",
       "<details>\n",
       "\t<summary style=display:list-item;cursor:pointer>\n",
       "\t\t<strong>Levels</strong>:\n",
       "\t</summary>\n",
       "\t<ol class=list-inline>\n",
       "\t\t<li>'C1'</li>\n",
       "\t\t<li>'C2'</li>\n",
       "\t\t<li>'C3'</li>\n",
       "\t</ol>\n",
       "</details>"
      ],
      "text/latex": [
       "\\begin{enumerate*}\n",
       "\\item C1\n",
       "\\item C1\n",
       "\\item C1\n",
       "\\item C1\n",
       "\\item C1\n",
       "\\item C1\n",
       "\\end{enumerate*}\n",
       "\n",
       "\\emph{Levels}: \\begin{enumerate*}\n",
       "\\item 'C1'\n",
       "\\item 'C2'\n",
       "\\item 'C3'\n",
       "\\end{enumerate*}\n"
      ],
      "text/markdown": [
       "1. C1\n",
       "2. C1\n",
       "3. C1\n",
       "4. C1\n",
       "5. C1\n",
       "6. C1\n",
       "\n",
       "\n",
       "\n",
       "**Levels**: 1. 'C1'\n",
       "2. 'C2'\n",
       "3. 'C3'\n",
       "\n",
       "\n"
      ],
      "text/plain": [
       "[1] C1 C1 C1 C1 C1 C1\n",
       "Levels: C1 C2 C3"
      ]
     },
     "metadata": {},
     "output_type": "display_data"
    }
   ],
   "source": [
    "dtrain <- read.csv(\"Task2C_train.csv\",head=TRUE,sep=\",\") \n",
    "dtest <- read.csv(\"Task2C_test.csv\",head=TRUE,sep=\",\") \n",
    "\n",
    "# Separate input variables and class labels\n",
    "dataAndLabels <- function(data){\n",
    "    nr = dim(data)[1]\n",
    "    nc = dim(data)[2]\n",
    "    x = data[1:nr,1:(nc-1)]\n",
    "    y = data[1:nr,nc]\n",
    "    return (list(\"x\" = x, \"y\" = y))\n",
    "}\n",
    "train.data <- dataAndLabels(dtrain)\n",
    "test.data <- dataAndLabels(dtest)\n",
    "head(train.data$y)"
   ]
  },
  {
   "cell_type": "markdown",
   "metadata": {},
   "source": [
    "### Task II and III: Implementation of Multiclass Perceptron Model:"
   ]
  },
  {
   "cell_type": "code",
   "execution_count": 27,
   "metadata": {},
   "outputs": [],
   "source": [
    "## Basis function\n",
    "Phi <- as.matrix(cbind(1, train.data$x)) # add a column of 1s as phi_0\n",
    "Phi.test <- as.matrix(cbind(1, test.data$x))"
   ]
  },
  {
   "cell_type": "markdown",
   "metadata": {},
   "source": [
    "Before going further, let's set the parameters. We also need to create some empty matrices for future uses."
   ]
  },
  {
   "cell_type": "code",
   "execution_count": 28,
   "metadata": {},
   "outputs": [],
   "source": [
    "# Initialization of parameters\n",
    "eta <- 0.1 # Learning rate\n",
    "tau.max <- 100 # Maximum number of iterations\n",
    "epsilon <- 0.001 # Stoping criterion\n",
    "\n",
    "tau <- 1 # iteration counter \n",
    "terminate <- FALSE # termination status"
   ]
  },
  {
   "cell_type": "markdown",
   "metadata": {},
   "source": [
    "Lets create weight vector for each class"
   ]
  },
  {
   "cell_type": "code",
   "execution_count": 29,
   "metadata": {},
   "outputs": [],
   "source": [
    "# W is a list that stores weight vectors\n",
    "W = list() \n",
    "\n",
    "W$C1 <- matrix(,nrow=tau.max, ncol=ncol(Phi)) # Empty matrix for C1 class's weight vector\n",
    "W$C1[1,] <- runif(ncol(Phi)) # Random initial values for weight vector\n",
    "\n",
    "W$C2 <- matrix(,nrow=tau.max, ncol=ncol(Phi)) # Empty matrix for C2 class's weight vector\n",
    "W$C2[1,] <- runif(ncol(Phi)) # Random initial values for weight vector\n",
    "\n",
    "W$C3 <- matrix(,nrow=tau.max, ncol=ncol(Phi)) # Empty matrix for C3 class's weight vector\n",
    "W$C3[1,] <- runif(ncol(Phi)) # Random initial values for weight vector\n",
    "\n",
    "# Create empty data frame to store test error for every mini batch\n",
    "errors <- data.frame('dataPoints' = numeric(), 'miniBatch' = numeric(), 'testError' = numeric(), 'tau' = numeric())\n",
    "trainingError <- data.frame()"
   ]
  },
  {
   "cell_type": "markdown",
   "metadata": {},
   "source": [
    "Function to predict the class based on maximum score"
   ]
  },
  {
   "cell_type": "code",
   "execution_count": 30,
   "metadata": {},
   "outputs": [],
   "source": [
    "# predict_class function predicts the classlable for a given set of input variable\n",
    "pred_class <- function(Phi, tau){\n",
    "    C1_score = W$C1[tau,] %*% Phi\n",
    "    C2_score = W$C2[tau,] %*% Phi\n",
    "    C3_score = W$C3[tau,] %*% Phi\n",
    "\n",
    "    pred = max(C1_score, C2_score, C3_score) # make prediction based on the highest score\n",
    "    \n",
    "    # return the lable for the predicted class\n",
    "    if(pred == C1_score)\n",
    "        return ('C1')\n",
    "    if(pred == C2_score)\n",
    "        return ('C2')\n",
    "    if(pred == C3_score)\n",
    "        return ('C3')    \n",
    "}"
   ]
  },
  {
   "cell_type": "markdown",
   "metadata": {},
   "source": [
    "The following is the main loop where we learn the model paramters using SGD."
   ]
  },
  {
   "cell_type": "code",
   "execution_count": 31,
   "metadata": {},
   "outputs": [],
   "source": [
    "dataPoints = 1 # counter to count total number of data points processed for training the model\n",
    "\n",
    "# Main Loop (Step 2):\n",
    "while(!terminate){\n",
    "    # resuffling train data and associated labels:\n",
    "    train.index <- sample(1:nrow(train.data$x), replace = FALSE)\n",
    "    train.data$y <- train.data$y[train.index]\n",
    "    Phi <- Phi[train.index,]\n",
    "    \n",
    "    er_train = 0\n",
    "    for (i in train.index){\n",
    "        if (tau == tau.max) {break}\n",
    "        \n",
    "        # call predict_class function to make a prediction\n",
    "        predictedClass = pred_class(Phi[i,], tau)\n",
    "        trueClass = toString(train.data$y[i])\n",
    "\n",
    "        # Check predicted class against true class and if not a true predictin, update weight for the predicted class and\n",
    "        # true class\n",
    "        if (predictedClass != trueClass){\n",
    "            # update tau counter\n",
    "            tau <- tau +1\n",
    "            er_train = er_train + 1 # update training error count\n",
    "            \n",
    "            # update the weights. Weight for wrong prediction is decreased and weight for true class is increased to improve\n",
    "            # selection criteria of model\n",
    "            W[[trueClass]][tau,] = W[[trueClass]][tau-1,] + (eta * Phi[i,])\n",
    "            W[[predictedClass]][tau,] = W[[predictedClass]][tau-1,] - (eta * Phi[i,])\n",
    "            \n",
    "            # Just update the weight vector for the remaining class with same values\n",
    "            remainingClass = setdiff(c('C1', 'C2', 'C3'), c(trueClass, predictedClass)) # select the remaining class\n",
    "            W[[remainingClass]][tau,] = W[[remainingClass]][tau-1,]\n",
    "        }\n",
    "        \n",
    "        if (dataPoints %% 5 == 0){\n",
    "            error = 0 # to count number of mispredictions\n",
    "\n",
    "            for (j in 1:nrow(test.data$x)){\n",
    "                \n",
    "                pred = pred_class(Phi.test[j,], tau)\n",
    "                if (pred != toString(test.data$y[j])){\n",
    "                    error = error + 1\n",
    "                }\n",
    "            }\n",
    "            # compute error for the current batch\n",
    "            error = error / nrow(test.data$x)\n",
    "            # save the data frame\n",
    "            errors[nrow(errors)+1, 'dataPoints'] = dataPoints # update row value\n",
    "            errors[nrow(errors), 'miniBatch'] = dataPoints/5 \n",
    "            errors[nrow(errors), 'testError'] = error\n",
    "            errors[nrow(errors), 'tau'] = tau          \n",
    "\n",
    "        }\n",
    "        dataPoints = dataPoints + 1\n",
    "        \n",
    "    }\n",
    "\n",
    "    # decrease eta:\n",
    "    eta = eta * 0.99\n",
    "    \n",
    "    # calculate training error\n",
    "    trainingError[nrow(trainingError)+1, 1] = er_train/ length(train.index)\n",
    "    \n",
    "    # check termination conditions\n",
    "    if (tau >= tau.max){\n",
    "        terminate <- TRUE\n",
    "    }\n",
    "    else if (nrow(trainingError) >= 2 && trainingError[nrow(trainingError),1] < 0.03){\n",
    "        # check if there is atleast two recorded training errors and training error is less than 3%\n",
    "        improvement = trainingError[nrow(trainingError),1] - trainingError[nrow(trainingError)-1, 1]\n",
    "        terminate = improvement < epsilon # terminate if the improvement is minimal\n",
    "        }\n",
    "}\n",
    "\n",
    "W$C1 <- W$C1[1:tau,] # cut the empty part of the matrix (when the loop stops before tau == tau.max)\n",
    "W$C2 <- W$C2[1:tau,]\n",
    "W$C3 <- W$C3[1:tau,]"
   ]
  },
  {
   "cell_type": "markdown",
   "metadata": {},
   "source": [
    "Done! Let's print the learnt weight vector."
   ]
  },
  {
   "cell_type": "code",
   "execution_count": 32,
   "metadata": {},
   "outputs": [
    {
     "name": "stdout",
     "output_type": "stream",
     "text": [
      "\n",
      "\n",
      "The  final weight vector for C1: 0.4127034 1.121988 2.368693 -1.581865 -0.1925016\n",
      "\n",
      "The  final weight vector for C2: 1.035351 0.7227958 -0.2485852 0.202538 -0.6902143\n",
      "\n",
      "The  final weight vector for C3: -0.0004486082 -0.6680142 -0.9955487 3.592223 2.550198"
     ]
    }
   ],
   "source": [
    "## report\n",
    "cat('\\n\\nThe  final weight vector for C1:', W$C1[tau,])\n",
    "cat('\\n\\nThe  final weight vector for C2:', W$C2[tau,])\n",
    "cat('\\n\\nThe  final weight vector for C3:', W$C3[tau,])"
   ]
  },
  {
   "cell_type": "markdown",
   "metadata": {},
   "source": [
    "### Visualization\n",
    "Plot the error of the test data vs the number of mini-batches"
   ]
  },
  {
   "cell_type": "code",
   "execution_count": 33,
   "metadata": {},
   "outputs": [
    {
     "data": {
      "image/png": "[encoded data removed]",
      "text/plain": [
       "Plot with title \"Number of Mini-batches vs. Test Error\""
      ]
     },
     "metadata": {},
     "output_type": "display_data"
    }
   ],
   "source": [
    "plot(x = errors[ ,'miniBatch'], y =errors[ ,'testError'], ylim = c(0,max(errors[ ,'testError']*1.25)), type = 'l', \n",
    "     col = 'blue', main = \"Number of Mini-batches vs. Test Error\", xlab = \"Number of Mini-batches\", ylab = \"Test Error\",\n",
    "     sub = \"One mini-batch is Five data points\")"
   ]
  },
  {
   "cell_type": "code",
   "execution_count": null,
   "metadata": {},
   "outputs": [],
   "source": []
  }
 ],
 "metadata": {
  "kernelspec": {
   "display_name": "R",
   "language": "R",
   "name": "ir"
  },
  "language_info": {
   "codemirror_mode": "r",
   "file_extension": ".r",
   "mimetype": "text/x-r-source",
   "name": "R",
   "pygments_lexer": "r",
   "version": "3.5.1"
  }
 },
 "nbformat": 4,
 "nbformat_minor": 2
}
